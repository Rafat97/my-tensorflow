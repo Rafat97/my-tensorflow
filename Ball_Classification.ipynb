{
  "nbformat": 4,
  "nbformat_minor": 0,
  "metadata": {
    "colab": {
      "name": "Ball-Classification.ipynb",
      "provenance": [],
      "collapsed_sections": [],
      "toc_visible": true,
      "authorship_tag": "ABX9TyPJ+Be1loiKe3edO5jGS0DQ",
      "include_colab_link": true
    },
    "kernelspec": {
      "name": "python3",
      "display_name": "Python 3"
    }
  },
  "cells": [
    {
      "cell_type": "markdown",
      "metadata": {
        "id": "view-in-github",
        "colab_type": "text"
      },
      "source": [
        "<a href=\"https://colab.research.google.com/github/Rafat97/my-tensorflow/blob/image/Ball_Classification.ipynb\" target=\"_parent\"><img src=\"https://colab.research.google.com/assets/colab-badge.svg\" alt=\"Open In Colab\"/></a>"
      ]
    },
    {
      "cell_type": "markdown",
      "metadata": {
        "id": "ntqtBHkJYnNg",
        "colab_type": "text"
      },
      "source": [
        "# Ball Classification "
      ]
    },
    {
      "cell_type": "code",
      "metadata": {
        "id": "KJpXEcG4cjqA",
        "colab_type": "code",
        "colab": {}
      },
      "source": [
        "# !rm -rf /root/.keras/datasets/ball_dataset_3.zip"
      ],
      "execution_count": 0,
      "outputs": []
    },
    {
      "cell_type": "code",
      "metadata": {
        "id": "80C9nR04dIGh",
        "colab_type": "code",
        "colab": {}
      },
      "source": [
        "# !ls -al /root/.keras/"
      ],
      "execution_count": 0,
      "outputs": []
    },
    {
      "cell_type": "code",
      "metadata": {
        "id": "6ymMlNVYYmFA",
        "colab_type": "code",
        "colab": {}
      },
      "source": [
        "#import all the libeart\n",
        "import tensorflow as tf\n",
        "from tensorflow.keras import datasets, layers, models\n",
        "from tensorflow.keras.models import Sequential\n",
        "from tensorflow.keras.layers import Dense, Conv2D, Flatten, Dropout, MaxPooling2D\n",
        "from tensorflow.keras.preprocessing.image import ImageDataGenerator\n",
        "import cv2\n",
        "import os\n",
        "import numpy as np\n",
        "import matplotlib.pyplot as plt\n",
        "import pathlib"
      ],
      "execution_count": 0,
      "outputs": []
    },
    {
      "cell_type": "code",
      "metadata": {
        "id": "hndwDy2oZnvv",
        "colab_type": "code",
        "outputId": "4a3ad551-be04-4179-c3df-72515374b559",
        "colab": {
          "base_uri": "https://localhost:8080/",
          "height": 34
        }
      },
      "source": [
        "_URL = \"https://raw.githubusercontent.com/Rafat97/my-tensorflow/dataset/ball_dataset_4.zip\"\n",
        "path_to_zip = tf.keras.utils.get_file('ball_dataset_3.zip', origin=_URL, extract=True)\n",
        "PATH = os.path.join(os.path.dirname(path_to_zip), 'ball-dataset')\n",
        "PATH"
      ],
      "execution_count": 4,
      "outputs": [
        {
          "output_type": "execute_result",
          "data": {
            "text/plain": [
              "'/root/.keras/datasets/ball-dataset'"
            ]
          },
          "metadata": {
            "tags": []
          },
          "execution_count": 4
        }
      ]
    },
    {
      "cell_type": "code",
      "metadata": {
        "id": "jak-H5vxaB9f",
        "colab_type": "code",
        "outputId": "f47bc2c8-429f-474a-ea5b-ab0f7ddad7c5",
        "colab": {
          "base_uri": "https://localhost:8080/",
          "height": 122
        }
      },
      "source": [
        "data_dir = pathlib.Path(PATH)\n",
        "dir_info = list(data_dir.glob('*'))\n",
        "train_dir = os.path.join(PATH, 'train')\n",
        "validation_dir = os.path.join(PATH, 'validation')\n",
        "print(\"data_dir = \",data_dir)\n",
        "print(\"dir_info :\")\n",
        "print(dir_info)\n",
        "print(\"train_dir = \",train_dir)\n",
        "print(\"validation_dir = \",validation_dir)"
      ],
      "execution_count": 5,
      "outputs": [
        {
          "output_type": "stream",
          "text": [
            "data_dir =  /root/.keras/datasets/ball-dataset\n",
            "dir_info :\n",
            "[PosixPath('/root/.keras/datasets/ball-dataset/validation'), PosixPath('/root/.keras/datasets/ball-dataset/train'), PosixPath('/root/.keras/datasets/ball-dataset/test')]\n",
            "train_dir =  /root/.keras/datasets/ball-dataset/train\n",
            "validation_dir =  /root/.keras/datasets/ball-dataset/validation\n"
          ],
          "name": "stdout"
        }
      ]
    },
    {
      "cell_type": "code",
      "metadata": {
        "id": "8qTk0w4OaSIW",
        "colab_type": "code",
        "outputId": "a4363dfe-5482-4e37-ae5d-95b3aca16eff",
        "colab": {
          "base_uri": "https://localhost:8080/",
          "height": 119
        }
      },
      "source": [
        "train_ball_dir = os.path.join(train_dir, 'ball')  \n",
        "train_no_ball_dir = os.path.join(train_dir, 'no-ball')  \n",
        "validation_ball_dir = os.path.join(validation_dir, 'ball')  \n",
        "validation_no_ball_dir = os.path.join(validation_dir, 'no-ball')  \n",
        "num_ball_tr = len(os.listdir(train_ball_dir)) + len(os.listdir(train_no_ball_dir))\n",
        "num_ball_val = len(os.listdir(validation_ball_dir))  + len(os.listdir(validation_no_ball_dir))\n",
        "total_train = num_ball_tr\n",
        "total_val = num_ball_val\n",
        "print(\"train_ball_dir = \",train_ball_dir) \n",
        "print(\"train_no_ball_dir = \",train_no_ball_dir)\n",
        "print(\"validation_ball_dir = \",validation_ball_dir)\n",
        "print(\"validation_no_ball_dir = \",validation_no_ball_dir)\n",
        "print(\"num_ball_tr = \",num_ball_tr)\n",
        "print(\"num_ball_val = \",num_ball_val)"
      ],
      "execution_count": 6,
      "outputs": [
        {
          "output_type": "stream",
          "text": [
            "train_ball_dir =  /root/.keras/datasets/ball-dataset/train/ball\n",
            "train_no_ball_dir =  /root/.keras/datasets/ball-dataset/train/no-ball\n",
            "validation_ball_dir =  /root/.keras/datasets/ball-dataset/validation/ball\n",
            "validation_no_ball_dir =  /root/.keras/datasets/ball-dataset/validation/no-ball\n",
            "num_ball_tr =  130\n",
            "num_ball_val =  36\n"
          ],
          "name": "stdout"
        }
      ]
    },
    {
      "cell_type": "code",
      "metadata": {
        "id": "ne56Ks34ECIS",
        "colab_type": "code",
        "colab": {}
      },
      "source": [
        "# Define some variable\n",
        "batch_size = 30\n",
        "epochs = 35\n",
        "IMG_HEIGHT = 224\n",
        "IMG_WIDTH = 224"
      ],
      "execution_count": 0,
      "outputs": []
    },
    {
      "cell_type": "code",
      "metadata": {
        "id": "BjRXl_IZ-6Je",
        "colab_type": "code",
        "outputId": "452a3a9c-8a00-4076-b761-6b423dae424e",
        "colab": {
          "base_uri": "https://localhost:8080/",
          "height": 354
        }
      },
      "source": [
        "# Generator for our training & validation data\n",
        "CLASS_NAMES = ['ball','no-ball']\n",
        "train_image_generator = ImageDataGenerator(\n",
        "     rescale=1./255,\n",
        "  )\n",
        "validation_image_generator = ImageDataGenerator(\n",
        "     rescale=1./255,\n",
        ")\n",
        "\n",
        "train_data_gen = train_image_generator.flow_from_directory(batch_size=batch_size,\n",
        "                                                           directory=train_dir,\n",
        "                                                          #  class_mode='binary',\n",
        "                                                           target_size=(IMG_HEIGHT, IMG_WIDTH))\n",
        "\n",
        "val_data_gen = validation_image_generator.flow_from_directory(batch_size=batch_size,\n",
        "                                                              directory=validation_dir,\n",
        "                                                              # class_mode='binary',\n",
        "                                                              target_size=(IMG_HEIGHT, IMG_WIDTH)\n",
        "                                                              )\n",
        "\n",
        "image_batch, label_batch = next(train_data_gen)\n",
        "print(label_batch)\n",
        "plt.imshow(image_batch[0])\n",
        "# image_batch, label_batch = next(val_data_gen)\n",
        "# plt.imshow(image_batch[0])"
      ],
      "execution_count": 8,
      "outputs": [
        {
          "output_type": "stream",
          "text": [
            "Found 130 images belonging to 2 classes.\n",
            "Found 36 images belonging to 2 classes.\n",
            "[0. 0. 0. 0. 1. 1. 0. 0. 0. 0. 1. 1. 1. 1. 0. 0. 1. 0. 0. 0. 0. 0. 0. 0.\n",
            " 0. 1. 0. 1. 0. 0.]\n"
          ],
          "name": "stdout"
        },
        {
          "output_type": "execute_result",
          "data": {
            "text/plain": [
              "<matplotlib.image.AxesImage at 0x7f67fa1feb70>"
            ]
          },
          "metadata": {
            "tags": []
          },
          "execution_count": 8
        },
        {
          "output_type": "display_data",
          "data": {
            "image/png": "[encoded data removed]",
            "text/plain": [
              "<Figure size 432x288 with 1 Axes>"
            ]
          },
          "metadata": {
            "tags": [],
            "needs_background": "light"
          }
        }
      ]
    },
    {
      "cell_type": "code",
      "metadata": {
        "id": "bzxdeFsagMIE",
        "colab_type": "code",
        "outputId": "1fadc735-9f35-4615-c5f7-f0d3611658dc",
        "colab": {
          "base_uri": "https://localhost:8080/",
          "height": 1000
        }
      },
      "source": [
        "## using vgg19\n",
        "vgg19_model  = tf.keras.applications.VGG19()\n",
        "model = Sequential()\n",
        "for layer in vgg19_model.layers[:-1]:\n",
        "  model.add(layer)\n",
        "\n",
        "for layer in model.layers[:]:\n",
        "  layer.trainable = False\n",
        "\n",
        "model.add(tf.keras.layers.Dense(512, activation='relu'))\n",
        "model.add(tf.keras.layers.Dense(1))\n",
        "model.summary()"
      ],
      "execution_count": 9,
      "outputs": [
        {
          "output_type": "stream",
          "text": [
            "Model: \"sequential\"\n",
            "_________________________________________________________________\n",
            "Layer (type)                 Output Shape              Param #   \n",
            "=================================================================\n",
            "block1_conv1 (Conv2D)        (None, 224, 224, 64)      1792      \n",
            "_________________________________________________________________\n",
            "block1_conv2 (Conv2D)        (None, 224, 224, 64)      36928     \n",
            "_________________________________________________________________\n",
            "block1_pool (MaxPooling2D)   (None, 112, 112, 64)      0         \n",
            "_________________________________________________________________\n",
            "block2_conv1 (Conv2D)        (None, 112, 112, 128)     73856     \n",
            "_________________________________________________________________\n",
            "block2_conv2 (Conv2D)        (None, 112, 112, 128)     147584    \n",
            "_________________________________________________________________\n",
            "block2_pool (MaxPooling2D)   (None, 56, 56, 128)       0         \n",
            "_________________________________________________________________\n",
            "block3_conv1 (Conv2D)        (None, 56, 56, 256)       295168    \n",
            "_________________________________________________________________\n",
            "block3_conv2 (Conv2D)        (None, 56, 56, 256)       590080    \n",
            "_________________________________________________________________\n",
            "block3_conv3 (Conv2D)        (None, 56, 56, 256)       590080    \n",
            "_________________________________________________________________\n",
            "block3_conv4 (Conv2D)        (None, 56, 56, 256)       590080    \n",
            "_________________________________________________________________\n",
            "block3_pool (MaxPooling2D)   (None, 28, 28, 256)       0         \n",
            "_________________________________________________________________\n",
            "block4_conv1 (Conv2D)        (None, 28, 28, 512)       1180160   \n",
            "_________________________________________________________________\n",
            "block4_conv2 (Conv2D)        (None, 28, 28, 512)       2359808   \n",
            "_________________________________________________________________\n",
            "block4_conv3 (Conv2D)        (None, 28, 28, 512)       2359808   \n",
            "_________________________________________________________________\n",
            "block4_conv4 (Conv2D)        (None, 28, 28, 512)       2359808   \n",
            "_________________________________________________________________\n",
            "block4_pool (MaxPooling2D)   (None, 14, 14, 512)       0         \n",
            "_________________________________________________________________\n",
            "block5_conv1 (Conv2D)        (None, 14, 14, 512)       2359808   \n",
            "_________________________________________________________________\n",
            "block5_conv2 (Conv2D)        (None, 14, 14, 512)       2359808   \n",
            "_________________________________________________________________\n",
            "block5_conv3 (Conv2D)        (None, 14, 14, 512)       2359808   \n",
            "_________________________________________________________________\n",
            "block5_conv4 (Conv2D)        (None, 14, 14, 512)       2359808   \n",
            "_________________________________________________________________\n",
            "block5_pool (MaxPooling2D)   (None, 7, 7, 512)         0         \n",
            "_________________________________________________________________\n",
            "flatten (Flatten)            (None, 25088)             0         \n",
            "_________________________________________________________________\n",
            "fc1 (Dense)                  (None, 4096)              102764544 \n",
            "_________________________________________________________________\n",
            "fc2 (Dense)                  (None, 4096)              16781312  \n",
            "_________________________________________________________________\n",
            "dense (Dense)                (None, 512)               2097664   \n",
            "_________________________________________________________________\n",
            "dense_1 (Dense)              (None, 1)                 513       \n",
            "=================================================================\n",
            "Total params: 141,668,417\n",
            "Trainable params: 2,098,177\n",
            "Non-trainable params: 139,570,240\n",
            "_________________________________________________________________\n"
          ],
          "name": "stdout"
        }
      ]
    },
    {
      "cell_type": "code",
      "metadata": {
        "id": "YbVDcrEHAc2y",
        "colab_type": "code",
        "colab": {}
      },
      "source": [
        "class CollectBatchStats(tf.keras.callbacks.Callback):\n",
        "  def __init__(self):\n",
        "    self.batch_losses = []\n",
        "    self.batch_acc = []\n",
        "\n",
        "  def on_train_batch_end(self, batch, logs=None):\n",
        "    self.batch_losses.append(logs['loss'])\n",
        "    self.batch_acc.append(logs['accuracy'])\n",
        "    self.model.reset_metrics() "
      ],
      "execution_count": 0,
      "outputs": []
    },
    {
      "cell_type": "code",
      "metadata": {
        "id": "kSAUW3cmHPXT",
        "colab_type": "code",
        "outputId": "79a196fa-1970-40d5-dea6-632d082cc999",
        "colab": {
          "base_uri": "https://localhost:8080/",
          "height": 785
        }
      },
      "source": [
        "# model = Sequential([\n",
        "#     tf.keras.layers.Conv2D(128, (3,3), activation='relu', input_shape=(IMG_WIDTH, IMG_HEIGHT, 3)),\n",
        "#     tf.keras.layers.MaxPooling2D(2, 2),\n",
        "\n",
        "#     tf.keras.layers.Conv2D(64, (3,3), activation='relu'),\n",
        "#     tf.keras.layers.MaxPooling2D(2, 2),\n",
        "\n",
        "#     tf.keras.layers.Conv2D(28, (3,3), activation='relu'),\n",
        "#     tf.keras.layers.MaxPooling2D(2, 2),\n",
        "\n",
        "#     Dropout(0.2),\n",
        "\n",
        "#     tf.keras.layers.Flatten(),\n",
        "\n",
        "#     tf.keras.layers. Dense(512, activation='relu'),\n",
        "#     tf.keras.layers.Dense(128, activation='relu'),\n",
        "\n",
        "#     tf.keras.layers.Dense(1)\n",
        "\n",
        "# ])\n",
        "# model.summary()\n",
        "batch_stats_callback = CollectBatchStats()\n",
        "model.compile(optimizer='adam',\n",
        "              loss=tf.keras.losses.BinaryCrossentropy(from_logits=True),\n",
        "              metrics=['accuracy'])\n",
        "\n",
        "history = model.fit(\n",
        "    train_data_gen,\n",
        "    steps_per_epoch=total_train // batch_size,\n",
        "    epochs=epochs,\n",
        "    callbacks = [batch_stats_callback],\n",
        "    validation_data=val_data_gen,\n",
        "    validation_steps=total_val // batch_size\n",
        ")\n",
        "history.history"
      ],
      "execution_count": 0,
      "outputs": [
        {
          "output_type": "stream",
          "text": [
            "Epoch 1/35\n",
            "4/4 [==============================] - 63s 16s/step - loss: 1.6677 - accuracy: 0.8000 - val_loss: 0.7148 - val_accuracy: 0.4667\n",
            "Epoch 2/35\n",
            "4/4 [==============================] - 79s 20s/step - loss: 0.9049 - accuracy: 0.7333 - val_loss: 2.5311 - val_accuracy: 0.5333\n",
            "Epoch 3/35\n",
            "4/4 [==============================] - 75s 19s/step - loss: 1.4189 - accuracy: 0.8000 - val_loss: 2.1802 - val_accuracy: 0.6000\n",
            "Epoch 4/35\n",
            "4/4 [==============================] - 63s 16s/step - loss: 0.5495 - accuracy: 0.8333 - val_loss: 0.7649 - val_accuracy: 0.6000\n",
            "Epoch 5/35\n",
            "4/4 [==============================] - 63s 16s/step - loss: 0.3912 - accuracy: 0.8333 - val_loss: 1.3034 - val_accuracy: 0.5333\n",
            "Epoch 6/35\n",
            "4/4 [==============================] - 63s 16s/step - loss: 1.6114 - accuracy: 0.6000 - val_loss: 1.0300 - val_accuracy: 0.6000\n",
            "Epoch 7/35\n",
            "4/4 [==============================] - 75s 19s/step - loss: 0.4625 - accuracy: 0.9333 - val_loss: 0.5909 - val_accuracy: 0.6000\n",
            "Epoch 8/35\n",
            "4/4 [==============================] - 76s 19s/step - loss: 0.2708 - accuracy: 0.8667 - val_loss: 0.7272 - val_accuracy: 0.6000\n",
            "Epoch 9/35\n",
            "4/4 [==============================] - 63s 16s/step - loss: 0.5641 - accuracy: 0.8000 - val_loss: 0.7989 - val_accuracy: 0.6000\n",
            "Epoch 10/35\n",
            "4/4 [==============================] - 63s 16s/step - loss: 0.3481 - accuracy: 0.8667 - val_loss: 0.4934 - val_accuracy: 0.7333\n",
            "Epoch 11/35\n",
            "4/4 [==============================] - 63s 16s/step - loss: 0.5377 - accuracy: 0.7000 - val_loss: 0.5686 - val_accuracy: 0.6333\n",
            "Epoch 12/35\n",
            "4/4 [==============================] - 75s 19s/step - loss: 0.2615 - accuracy: 0.9667 - val_loss: 0.4319 - val_accuracy: 0.8000\n",
            "Epoch 13/35\n",
            "4/4 [==============================] - 76s 19s/step - loss: 0.4297 - accuracy: 0.8000 - val_loss: 0.7608 - val_accuracy: 0.6000\n",
            "Epoch 14/35\n",
            "4/4 [==============================] - 63s 16s/step - loss: 0.2941 - accuracy: 0.9000 - val_loss: 0.3579 - val_accuracy: 0.9000\n",
            "Epoch 15/35\n",
            "4/4 [==============================] - 63s 16s/step - loss: 0.3542 - accuracy: 0.8000 - val_loss: 0.6313 - val_accuracy: 0.6000\n",
            "Epoch 16/35\n",
            "4/4 [==============================] - 63s 16s/step - loss: 0.3332 - accuracy: 0.8000 - val_loss: 0.5073 - val_accuracy: 0.6667\n",
            "Epoch 17/35\n",
            "4/4 [==============================] - 78s 20s/step - loss: 0.3447 - accuracy: 0.9333 - val_loss: 0.3515 - val_accuracy: 0.8667\n",
            "Epoch 18/35\n",
            "4/4 [==============================] - 76s 19s/step - loss: 0.3499 - accuracy: 0.7667 - val_loss: 0.7773 - val_accuracy: 0.5667\n",
            "Epoch 19/35\n",
            "4/4 [==============================] - 63s 16s/step - loss: 0.2701 - accuracy: 0.8667 - val_loss: 0.2801 - val_accuracy: 0.9000\n",
            "Epoch 20/35\n",
            "4/4 [==============================] - 63s 16s/step - loss: 0.2332 - accuracy: 0.9000 - val_loss: 0.4076 - val_accuracy: 0.7333\n",
            "Epoch 21/35\n",
            "4/4 [==============================] - 63s 16s/step - loss: 0.2654 - accuracy: 0.9000 - val_loss: 0.4861 - val_accuracy: 0.6667\n",
            "Epoch 22/35\n",
            "4/4 [==============================] - ETA: 0s - loss: 0.2155 - accuracy: 0.9333 "
          ],
          "name": "stdout"
        }
      ]
    },
    {
      "cell_type": "code",
      "metadata": {
        "id": "aZqQLPAGAq94",
        "colab_type": "code",
        "colab": {}
      },
      "source": [
        "plt.figure()\n",
        "plt.ylabel(\"Loss\")\n",
        "plt.xlabel(\"Training Steps\")\n",
        "plt.ylim([0,2])\n",
        "plt.plot(batch_stats_callback.batch_losses)"
      ],
      "execution_count": 0,
      "outputs": []
    },
    {
      "cell_type": "code",
      "metadata": {
        "id": "BfaqcnWDAvDY",
        "colab_type": "code",
        "colab": {}
      },
      "source": [
        "plt.figure()\n",
        "plt.ylabel(\"Accuracy\")\n",
        "plt.xlabel(\"Training Steps\")\n",
        "plt.ylim([0,1])\n",
        "plt.plot(batch_stats_callback.batch_acc)"
      ],
      "execution_count": 0,
      "outputs": []
    },
    {
      "cell_type": "code",
      "metadata": {
        "id": "0J9jdQfnWZyX",
        "colab_type": "code",
        "colab": {}
      },
      "source": [
        "acc = history.history['accuracy']\n",
        "val_acc = history.history['val_accuracy']\n",
        "\n",
        "loss = history.history['loss']\n",
        "val_loss = history.history['val_loss']\n",
        "\n",
        "epochs_range = range(epochs)\n",
        "\n",
        "plt.figure(figsize=(8, 8))\n",
        "plt.subplot(1, 2, 1)\n",
        "plt.plot(epochs_range, acc, label='Training Accuracy')\n",
        "plt.plot(epochs_range, val_acc, label='Validation Accuracy')\n",
        "plt.legend(loc='lower right')\n",
        "plt.title('Training and Validation Accuracy')\n",
        "\n",
        "plt.subplot(1, 2, 2)\n",
        "plt.plot(epochs_range, loss, label='Training Loss')\n",
        "plt.plot(epochs_range, val_loss, label='Validation Loss')\n",
        "plt.legend(loc='upper right')\n",
        "plt.title('Training and Validation Loss')\n",
        "plt.show()"
      ],
      "execution_count": 0,
      "outputs": []
    },
    {
      "cell_type": "code",
      "metadata": {
        "id": "Are9SmDZH1mH",
        "colab_type": "code",
        "colab": {}
      },
      "source": [
        "# import numpy as np\n",
        "# from google.colab import files\n",
        "# from keras.preprocessing import image\n",
        "\n",
        "# uploaded = files.upload()\n",
        "\n",
        "# for fn in uploaded.keys():\n",
        " \n",
        "#   # predicting images\n",
        "#   path = fn\n",
        "#   img = image.load_img(path, target_size=(224, 224))\n",
        "#   x = image.img_to_array(img)\n",
        "#   x = np.expand_dims(x, axis=0)\n",
        "\n",
        "#   images = np.vstack([x])\n",
        "#   classes = model.predict(images, batch_size=10)\n",
        "#   print(fn)\n",
        "#   print(classes)\n"
      ],
      "execution_count": 0,
      "outputs": []
    }
  ]
}