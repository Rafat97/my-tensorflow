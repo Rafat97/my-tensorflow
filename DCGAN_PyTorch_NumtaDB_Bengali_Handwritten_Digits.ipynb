{
  "nbformat": 4,
  "nbformat_minor": 0,
  "metadata": {
    "colab": {
      "name": "DCGAN - PyTorch - NumtaDB: Bengali Handwritten Digits .ipynb",
      "provenance": [],
      "collapsed_sections": [
        "_jcH66cAZMfu",
        "W7cPMmz0ZS-7",
        "fd3FGlCuZcyb",
        "mFG3Ch7gZhcE",
        "i8VpEXY6ZoVc",
        "8Z7G24wnZzZb",
        "K68_o5reaAys",
        "n665C-g5aI-D",
        "GZYJ6BlAaNqj"
      ],
      "authorship_tag": "ABX9TyNjlmRrtb1DvNQuZhUQM1I2",
      "include_colab_link": true
    },
    "kernelspec": {
      "name": "python3",
      "display_name": "Python 3"
    },
    "accelerator": "GPU"
  },
  "cells": [
    {
      "cell_type": "markdown",
      "metadata": {
        "id": "view-in-github",
        "colab_type": "text"
      },
      "source": [
        "<a href=\"https://colab.research.google.com/github/Rafat97/my-tensorflow/blob/image/DCGAN_PyTorch_NumtaDB_Bengali_Handwritten_Digits.ipynb\" target=\"_parent\"><img src=\"https://colab.research.google.com/assets/colab-badge.svg\" alt=\"Open In Colab\"/></a>"
      ]
    },
    {
      "cell_type": "code",
      "metadata": {
        "id": "MZWiSEcewv_U"
      },
      "source": [
        "# !rm -rvf /content/drive/MyDrive/Datasets/BengaliAI_numta/*"
      ],
      "execution_count": null,
      "outputs": []
    },
    {
      "cell_type": "code",
      "metadata": {
        "id": "1d6XGON9yDqd"
      },
      "source": [
        "# !unzip -u /content/drive/MyDrive/Datasets/numta.zip  -d /content/drive/MyDrive/Datasets/BengaliAI_numta"
      ],
      "execution_count": null,
      "outputs": []
    },
    {
      "cell_type": "markdown",
      "metadata": {
        "id": "_jcH66cAZMfu"
      },
      "source": [
        "# Drive mount\r\n",
        "\r\n",
        "**Note*** You must change some variable, based on situation & dataset path\r\n"
      ]
    },
    {
      "cell_type": "code",
      "metadata": {
        "colab": {
          "base_uri": "https://localhost:8080/"
        },
        "id": "ycrQ7IoRpV1U",
        "outputId": "83772bc7-96ef-44b7-9da5-27d4fb4df114"
      },
      "source": [
        "from google.colab import drive\n",
        "drive.mount('/content/drive')"
      ],
      "execution_count": null,
      "outputs": [
        {
          "output_type": "stream",
          "text": [
            "Mounted at /content/drive\n"
          ],
          "name": "stdout"
        }
      ]
    },
    {
      "cell_type": "markdown",
      "metadata": {
        "id": "W7cPMmz0ZS-7"
      },
      "source": [
        "# Required Packages"
      ]
    },
    {
      "cell_type": "code",
      "metadata": {
        "colab": {
          "base_uri": "https://localhost:8080/"
        },
        "id": "1mq8bQq6n_4l",
        "outputId": "56e4d549-ad8d-4bb8-ff2f-95b7b88fe5c2"
      },
      "source": [
        "import numpy as np\r\n",
        "import pandas as pd\r\n",
        "import os\r\n",
        "import matplotlib.pyplot as plt\r\n",
        "from PIL import Image\r\n",
        "import time\r\n",
        "import glob\r\n",
        "import imageio\r\n",
        "from IPython import display\r\n",
        "import cv2\r\n",
        "import pathlib\r\n",
        "import zipfile\r\n",
        "import torch\r\n",
        "import sys\r\n",
        "import pandas as pd \r\n",
        "\r\n",
        "import torchvision\r\n",
        "import torch.nn as nn\r\n",
        "import torchvision.transforms as transforms\r\n",
        "from torch.utils.data import Dataset, DataLoader, ConcatDataset, TensorDataset\r\n",
        "from torchvision.utils import make_grid\r\n",
        "import torch.optim as optim\r\n",
        "from torchvision.datasets import MNIST\r\n",
        "\r\n",
        "from skimage import io, transform\r\n",
        "\r\n",
        "!pip install torchsummary\r\n",
        "from torchsummary import summary\r\n",
        "\r\n",
        "!pip install torchviz\r\n",
        "from torchviz import make_dot, make_dot_from_trace"
      ],
      "execution_count": null,
      "outputs": [
        {
          "output_type": "stream",
          "text": [
            "Requirement already satisfied: torchsummary in /usr/local/lib/python3.6/dist-packages (1.5.1)\n",
            "Collecting torchviz\n",
            "\u001b[?25l  Downloading https://files.pythonhosted.org/packages/8f/8e/a9630c7786b846d08b47714dd363a051f5e37b4ea0e534460d8cdfc1644b/torchviz-0.0.1.tar.gz (41kB)\n",
            "\u001b[K     |████████████████████████████████| 51kB 6.1MB/s \n",
            "\u001b[?25hRequirement already satisfied: torch in /usr/local/lib/python3.6/dist-packages (from torchviz) (1.7.0+cu101)\n",
            "Requirement already satisfied: graphviz in /usr/local/lib/python3.6/dist-packages (from torchviz) (0.10.1)\n",
            "Requirement already satisfied: typing-extensions in /usr/local/lib/python3.6/dist-packages (from torch->torchviz) (3.7.4.3)\n",
            "Requirement already satisfied: dataclasses in /usr/local/lib/python3.6/dist-packages (from torch->torchviz) (0.8)\n",
            "Requirement already satisfied: future in /usr/local/lib/python3.6/dist-packages (from torch->torchviz) (0.16.0)\n",
            "Requirement already satisfied: numpy in /usr/local/lib/python3.6/dist-packages (from torch->torchviz) (1.19.5)\n",
            "Building wheels for collected packages: torchviz\n",
            "  Building wheel for torchviz (setup.py) ... \u001b[?25l\u001b[?25hdone\n",
            "  Created wheel for torchviz: filename=torchviz-0.0.1-cp36-none-any.whl size=3522 sha256=0a5fab2023916ca8cbc84aa430b24edeea03497066166d14219c6119329aa35f\n",
            "  Stored in directory: /root/.cache/pip/wheels/2a/c2/c5/b8b4d0f7992c735f6db5bfa3c5f354cf36502037ca2b585667\n",
            "Successfully built torchviz\n",
            "Installing collected packages: torchviz\n",
            "Successfully installed torchviz-0.0.1\n"
          ],
          "name": "stdout"
        }
      ]
    },
    {
      "cell_type": "markdown",
      "metadata": {
        "id": "fd3FGlCuZcyb"
      },
      "source": [
        "# Data Load\r\n",
        "\r\n",
        "\r\n",
        "**Dataset Link kaggle**: https://www.kaggle.com/BengaliAI/numta\r\n",
        "\r\n",
        "**Dataset Link Google Drive**: https://drive.google.com/drive/folders/1-4x2J-Fn2bW92XHaOV1l6XLmKCpZ9ry6?usp=sharing\r\n",
        "\r\n",
        "**Custom Modified Dataset(under creation)**: https://drive.google.com/drive/folders/1-u1j68KZG_-x4WThTmS6buNycDWdemJk?usp=sharing\r\n",
        "\r\n",
        "**For Training Dataset Used**: training-a.csv\r\n",
        "\r\n",
        "**For Training Total Dataset Size Used**: ~19701 images\r\n",
        "\r\n",
        "**For Training Image Shape Used**: 1 * 28 * 28\r\n"
      ]
    },
    {
      "cell_type": "code",
      "metadata": {
        "colab": {
          "base_uri": "https://localhost:8080/"
        },
        "id": "tTQqdXl_qQml",
        "outputId": "744d08e5-52f4-4b85-ee38-b2c52d9aa795"
      },
      "source": [
        "# Decide which device we want to run on\r\n",
        "device = torch.device('cuda:0' if torch.cuda.is_available() else 'cpu')\r\n",
        "device"
      ],
      "execution_count": null,
      "outputs": [
        {
          "output_type": "execute_result",
          "data": {
            "text/plain": [
              "device(type='cuda', index=0)"
            ]
          },
          "metadata": {
            "tags": []
          },
          "execution_count": 3
        }
      ]
    },
    {
      "cell_type": "code",
      "metadata": {
        "id": "xeHo029YrFT3"
      },
      "source": [
        "# Decide which device we want to run on\r\n",
        "device = torch.device('cuda:0' if torch.cuda.is_available() else 'cpu')\r\n",
        "device\r\n",
        "\r\n",
        "batch_size=16\r\n",
        "z_dim = 100\r\n",
        "fixed_noise = torch.randn(batch_size, z_dim, device=device)\r\n",
        "\r\n",
        "csv_dirs = [\r\n",
        "          '/content/drive/MyDrive/Datasets/BengaliAI_numta/training-a.csv',\r\n",
        "          # '/content/drive/MyDrive/Datasets/BengaliAI_numta/training-b.csv',\r\n",
        "          # '/content/drive/MyDrive/Datasets/BengaliAI_numta/training-c.csv',\r\n",
        "          # '/content/drive/MyDrive/Datasets/BengaliAI_numta/training-d.csv',\r\n",
        "          # '/content/drive/MyDrive/Datasets/BengaliAI_numta/training-e.csv',\r\n",
        "]\r\n",
        "\r\n",
        "\r\n",
        "all_images = []\r\n",
        "required_col = ['filename', 'digit', 'database name']\r\n",
        "for csv_dir in csv_dirs:\r\n",
        "  tranning_dir = '/content/drive/MyDrive/Datasets/BengaliAI_numta/'\r\n",
        "  df = pd.read_csv(csv_dir)\r\n",
        "  for (a,b,c) in df[required_col].to_numpy():\r\n",
        "    data = {\r\n",
        "        'path' : tranning_dir +\"/\"+ c +\"/\"+ a,\r\n",
        "        'label' : b\r\n",
        "    }\r\n",
        "    all_images.append(data)\r\n",
        "\r\n",
        "\r\n",
        "\r\n",
        "# from PIL import Image\r\n",
        "# Image.open(all_images[0]['path'])\r\n",
        "\r\n",
        "\r\n",
        "\r\n",
        "\r\n",
        "class Dataset(Dataset):\r\n",
        "    '''\r\n",
        "    color_type = “L”, “RGB” and “CMYK.”\r\n",
        "    '''\r\n",
        "    def __init__(self, df, transform=None , color_type='L'):\r\n",
        "        self.data = df\r\n",
        "        self.transform = self.set_transform(transform)\r\n",
        "        self.color_type = color_type\r\n",
        "\r\n",
        "    def set_transform(self,transform):\r\n",
        "        tens = transform\r\n",
        "        if not transform:\r\n",
        "            tens = transforms.Compose([\r\n",
        "                transforms.ToTensor(),\r\n",
        "            ])\r\n",
        "        return tens\r\n",
        "\r\n",
        "    def __len__(self):\r\n",
        "        return len(self.data)\r\n",
        "    \r\n",
        "    def __getitem__(self, index):\r\n",
        "        path = self.data[index]['path']\r\n",
        "        label = self.data[index]['label']\r\n",
        "        image = Image.open(path).convert(self.color_type) \r\n",
        "        \r\n",
        "        if self.transform:\r\n",
        "            image = self.transform(image)\r\n",
        "            \r\n",
        "        return image,label\r\n",
        "\r\n",
        "\r\n",
        "\r\n",
        "train_transform = transforms.Compose([\r\n",
        "    # transforms.ToPILImage(),\r\n",
        "    transforms.Resize(28),\r\n",
        "    transforms.ToTensor(),\r\n",
        "    transforms.Normalize([0.5,], [0.5,]),\r\n",
        "])\r\n",
        "\r\n",
        "train = torch.utils.data.TensorDataset()\r\n",
        "train_data  = Dataset(all_images, transform = train_transform, color_type = 'L')\r\n",
        "train_loader = DataLoader(train_data, batch_size = batch_size, shuffle = False, pin_memory=True)"
      ],
      "execution_count": null,
      "outputs": []
    },
    {
      "cell_type": "markdown",
      "metadata": {
        "id": "mFG3Ch7gZhcE"
      },
      "source": [
        "# Loaded Data Visualization"
      ]
    },
    {
      "cell_type": "code",
      "metadata": {
        "colab": {
          "base_uri": "https://localhost:8080/",
          "height": 212
        },
        "id": "uPbX1pOhA9IU",
        "outputId": "3078a937-78bd-4915-d2ba-b5dfde2252ed"
      },
      "source": [
        "start = time.time()\r\n",
        "dataiter = iter(train_loader)\r\n",
        "images,labels = dataiter.next()\r\n",
        "print ('Time is {} sec'.format(time.time()-start))\r\n",
        "\r\n",
        "plt.figure(figsize=(8,8))\r\n",
        "plt.axis(\"off\")\r\n",
        "plt.title(\"Training Images\")\r\n",
        "plt.imshow(np.transpose(make_grid(images.to(device), padding=2, normalize=True).cpu(),(1,2,0)))\r\n",
        "\r\n",
        "print('Shape of loading one batch:', images.shape)\r\n",
        "print('Total no. of batches present in trainloader:', len(train_loader))"
      ],
      "execution_count": null,
      "outputs": [
        {
          "output_type": "stream",
          "text": [
            "Time is 0.05223369598388672 sec\n",
            "Shape of loading one batch: torch.Size([16, 1, 28, 28])\n",
            "Total no. of batches present in trainloader: 1232\n"
          ],
          "name": "stdout"
        },
        {
          "output_type": "display_data",
          "data": {
            "image/png": "[encoded data removed]",
            "text/plain": [
              "<Figure size 576x576 with 1 Axes>"
            ]
          },
          "metadata": {
            "tags": [],
            "needs_background": "light"
          }
        }
      ]
    },
    {
      "cell_type": "markdown",
      "metadata": {
        "id": "i8VpEXY6ZoVc"
      },
      "source": [
        "# Model Create & Summary"
      ]
    },
    {
      "cell_type": "code",
      "metadata": {
        "colab": {
          "base_uri": "https://localhost:8080/"
        },
        "id": "jYsPn_nKaDit",
        "outputId": "2ac76d75-5148-4772-cdcd-72d9aa8c057a"
      },
      "source": [
        "class Generator(nn.Module):\r\n",
        "\r\n",
        "    def __init__(self, z_dim=10, img_channel=1, hidden_dim=64):\r\n",
        "        super(Generator, self).__init__()\r\n",
        "        self.z_dim = z_dim\r\n",
        "        self.gen = nn.Sequential(\r\n",
        "            self.gen_block(z_dim, hidden_dim * 4),\r\n",
        "            self.gen_block(hidden_dim * 4, hidden_dim * 2, kernel_size=4, stride=1),\r\n",
        "            self.gen_block(hidden_dim * 2, hidden_dim),\r\n",
        "            self.gen_block(hidden_dim, img_channel, kernel_size=4, final_layer=True),\r\n",
        "        )\r\n",
        "\r\n",
        "    def gen_block(self, input_channel, output_channel, kernel_size=3, stride=2, final_layer=False):\r\n",
        "        if not final_layer:\r\n",
        "            return nn.Sequential(\r\n",
        "                nn.ConvTranspose2d(input_channel, output_channel, kernel_size, stride),\r\n",
        "                nn.BatchNorm2d(output_channel),\r\n",
        "                nn.LeakyReLU(0.2,inplace=True)\r\n",
        "            )\r\n",
        "        else:\r\n",
        "            return nn.Sequential(\r\n",
        "                nn.ConvTranspose2d(input_channel, output_channel, kernel_size, stride),\r\n",
        "                nn.Sigmoid()\r\n",
        "            )\r\n",
        "\r\n",
        "    def forward(self, x):\r\n",
        "        x = x.view(len(x), self.z_dim, 1, 1)      # change the shape: (batch_size, channels=z_dim, width=1, height=1)\r\n",
        "        x = self.gen(x)\r\n",
        "        return x;\r\n",
        "\r\n",
        "summary(Generator(100).to(device), (100,))\r\n",
        "\r\n",
        "class Discriminator(nn.Module):\r\n",
        "\r\n",
        "    def __init__(self, img_channel=1, hidden_dim=16):\r\n",
        "        super(Discriminator, self).__init__()\r\n",
        "        self.disc = nn.Sequential(\r\n",
        "            self.disc_block(img_channel, hidden_dim, kernel_size=4),\r\n",
        "            self.disc_block(hidden_dim, hidden_dim * 2),\r\n",
        "            self.disc_block(hidden_dim * 2, hidden_dim * 4, kernel_size=4, stride=1),\r\n",
        "            self.disc_block(hidden_dim * 4, 1, final_layer=True),\r\n",
        "        )\r\n",
        "\r\n",
        "    def disc_block(self, input_channel, output_channel, kernel_size=3, stride=2, final_layer=False):\r\n",
        "        if not final_layer:\r\n",
        "            return nn.Sequential(\r\n",
        "                nn.Conv2d(input_channel, output_channel, kernel_size, stride),\r\n",
        "                nn.BatchNorm2d(output_channel),\r\n",
        "                nn.LeakyReLU(0.2, inplace=True)\r\n",
        "            )\r\n",
        "        else:\r\n",
        "            return nn.Sequential(\r\n",
        "                nn.Conv2d(input_channel, output_channel, kernel_size, stride),\r\n",
        "                nn.Sigmoid()\r\n",
        "            )\r\n",
        "  \r\n",
        "    def forward(self, image):\r\n",
        "        disc_pred = self.disc(image)\r\n",
        "        # retval = disc_pred.view(len(disc_pred), -1)\r\n",
        "        return   disc_pred  # returns 1-dimension tensor representing fake/real\r\n",
        "\r\n",
        "\r\n",
        "summary(Discriminator().to(device), (1, 28, 28))"
      ],
      "execution_count": null,
      "outputs": [
        {
          "output_type": "stream",
          "text": [
            "----------------------------------------------------------------\n",
            "        Layer (type)               Output Shape         Param #\n",
            "================================================================\n",
            "   ConvTranspose2d-1            [-1, 256, 3, 3]         230,656\n",
            "       BatchNorm2d-2            [-1, 256, 3, 3]             512\n",
            "         LeakyReLU-3            [-1, 256, 3, 3]               0\n",
            "   ConvTranspose2d-4            [-1, 128, 6, 6]         524,416\n",
            "       BatchNorm2d-5            [-1, 128, 6, 6]             256\n",
            "         LeakyReLU-6            [-1, 128, 6, 6]               0\n",
            "   ConvTranspose2d-7           [-1, 64, 13, 13]          73,792\n",
            "       BatchNorm2d-8           [-1, 64, 13, 13]             128\n",
            "         LeakyReLU-9           [-1, 64, 13, 13]               0\n",
            "  ConvTranspose2d-10            [-1, 1, 28, 28]           1,025\n",
            "          Sigmoid-11            [-1, 1, 28, 28]               0\n",
            "================================================================\n",
            "Total params: 830,785\n",
            "Trainable params: 830,785\n",
            "Non-trainable params: 0\n",
            "----------------------------------------------------------------\n",
            "Input size (MB): 0.00\n",
            "Forward/backward pass size (MB): 0.42\n",
            "Params size (MB): 3.17\n",
            "Estimated Total Size (MB): 3.59\n",
            "----------------------------------------------------------------\n",
            "----------------------------------------------------------------\n",
            "        Layer (type)               Output Shape         Param #\n",
            "================================================================\n",
            "            Conv2d-1           [-1, 16, 13, 13]             272\n",
            "       BatchNorm2d-2           [-1, 16, 13, 13]              32\n",
            "         LeakyReLU-3           [-1, 16, 13, 13]               0\n",
            "            Conv2d-4             [-1, 32, 6, 6]           4,640\n",
            "       BatchNorm2d-5             [-1, 32, 6, 6]              64\n",
            "         LeakyReLU-6             [-1, 32, 6, 6]               0\n",
            "            Conv2d-7             [-1, 64, 3, 3]          32,832\n",
            "       BatchNorm2d-8             [-1, 64, 3, 3]             128\n",
            "         LeakyReLU-9             [-1, 64, 3, 3]               0\n",
            "           Conv2d-10              [-1, 1, 1, 1]             577\n",
            "          Sigmoid-11              [-1, 1, 1, 1]               0\n",
            "================================================================\n",
            "Total params: 38,545\n",
            "Trainable params: 38,545\n",
            "Non-trainable params: 0\n",
            "----------------------------------------------------------------\n",
            "Input size (MB): 0.00\n",
            "Forward/backward pass size (MB): 0.10\n",
            "Params size (MB): 0.15\n",
            "Estimated Total Size (MB): 0.25\n",
            "----------------------------------------------------------------\n"
          ],
          "name": "stdout"
        }
      ]
    },
    {
      "cell_type": "markdown",
      "metadata": {
        "id": "8Z7G24wnZzZb"
      },
      "source": [
        "# Loss & Optimizer Initialization"
      ]
    },
    {
      "cell_type": "code",
      "metadata": {
        "id": "cFNHoGA2HZXh"
      },
      "source": [
        "def weights_init(m):\r\n",
        "    if isinstance(m, nn.Conv2d) or isinstance(m, nn.ConvTranspose2d):\r\n",
        "        nn.init.normal_(m.weight, 0.0, 0.02)\r\n",
        "    if isinstance(m, nn.BatchNorm2d):\r\n",
        "        nn.init.normal_(m.weight, 0.0, 0.02)\r\n",
        "        nn.init.constant_(m.bias, 0)\r\n",
        "\r\n",
        "netG = Generator(z_dim).to(device)\r\n",
        "netD  = Discriminator().to(device)\r\n",
        "\r\n",
        "# netG.apply(weights_init)\r\n",
        "# netD.apply(weights_init)\r\n",
        "\r\n",
        "criterion = nn.BCELoss()\r\n",
        "\r\n",
        "optimizerD = optim.Adam(netD.parameters(), lr=0.0001)\r\n",
        "optimizerG = optim.Adam(netG.parameters(), lr=0.0001)\r\n",
        "\r\n",
        "# noise = torch.randn(batch_size, z_dim, device=device)\r\n",
        "# fake_img = netG(noise)\r\n",
        "# unflat_img = fake_img.detach().cpu()\r\n",
        "# img_grid = make_grid(unflat_img[0])\r\n",
        "# plt.imshow(img_grid.permute(1, 2, 0).squeeze() , cmap='gray')\r\n"
      ],
      "execution_count": null,
      "outputs": []
    },
    {
      "cell_type": "markdown",
      "metadata": {
        "id": "K68_o5reaAys"
      },
      "source": [
        "# Training Process"
      ]
    },
    {
      "cell_type": "code",
      "metadata": {
        "id": "XwZ-s3a9nlgC"
      },
      "source": [
        "def show_tensor_images(epoch, tensor_img, num_img=25, size=(1, 28, 28),nrow= 5):\r\n",
        "    # tensor_img = (tensor_img + 1) / 2\r\n",
        "    unflat_img = tensor_img.detach().cpu()\r\n",
        "    img_grid = make_grid(unflat_img[:num_img], padding=2, normalize=True,nrow=nrow)\r\n",
        "    plt.axis('off')\r\n",
        "    plt.imshow(img_grid.permute(1, 2, 0).squeeze() , cmap='gray')\r\n",
        "    plt.savefig('image_at_epoch_{:04d}.png'.format(epoch))\r\n",
        "    plt.show()"
      ],
      "execution_count": null,
      "outputs": []
    },
    {
      "cell_type": "code",
      "metadata": {
        "id": "iPXAUEU_IGv6"
      },
      "source": [
        "# Training Loop\r\n",
        "\r\n",
        "# Lists to keep track of progress\r\n",
        "img_list = []\r\n",
        "G_losses = []\r\n",
        "D_losses = []\r\n",
        "iters = 0\r\n",
        "epochs = 320\r\n",
        "display_step = len(train_loader)\r\n",
        "# Training Loop\r\n",
        "\r\n",
        "print(\"Starting Training Loop...\")\r\n",
        "# For each epoch\r\n",
        "for epoch in range(256,epochs):\r\n",
        "    # For each batch in the dataloader\r\n",
        "    start = time.time()\r\n",
        "    for i, data in enumerate(train_loader, 0):\r\n",
        "        start_in = time.time()\r\n",
        "\r\n",
        "        ############################\r\n",
        "        # (1) Update D network: maximize log(D(x)) + log(1 - D(G(z)))\r\n",
        "        ###########################\r\n",
        "        ## Train with all-real batch\r\n",
        "        netD.zero_grad()\r\n",
        "        # Format batch\r\n",
        "        real_cpu = data[0].to(device)\r\n",
        "        b_size = real_cpu.size(0)\r\n",
        "        label = torch.full((b_size,), 1., dtype=torch.float, device=device)\r\n",
        "        # Forward pass real batch through D\r\n",
        "        output = netD(real_cpu).view(-1)\r\n",
        "        # Calculate loss on all-real batch\r\n",
        "        errD_real = criterion(output, label)\r\n",
        "        # Calculate gradients for D in backward pass\r\n",
        "        errD_real.backward()\r\n",
        "        D_x = output.mean().item()\r\n",
        "\r\n",
        "        ## Train with all-fake batch\r\n",
        "        # Generate batch of latent vectors\r\n",
        "        noise = torch.randn(b_size, z_dim, 1, 1, device=device)\r\n",
        "        # Generate fake image batch with G\r\n",
        "        fake = netG(noise)\r\n",
        "        label.fill_(0.)\r\n",
        "        # Classify all fake batch with D\r\n",
        "        output = netD(fake.detach()).view(-1)\r\n",
        "        # Calculate D's loss on the all-fake batch\r\n",
        "        errD_fake = criterion(output, label)\r\n",
        "        # Calculate the gradients for this batch\r\n",
        "        errD_fake.backward()\r\n",
        "        D_G_z1 = output.mean().item()\r\n",
        "        # Add the gradients from the all-real and all-fake batches\r\n",
        "        errD = errD_real + errD_fake\r\n",
        "        # Update D\r\n",
        "        optimizerD.step()\r\n",
        "\r\n",
        "        ############################\r\n",
        "        # (2) Update G network: maximize log(D(G(z)))\r\n",
        "        ###########################\r\n",
        "        netG.zero_grad()\r\n",
        "        label.fill_(1.)  # fake labels are real for generator cost\r\n",
        "        # Since we just updated D, perform another forward pass of all-fake batch through D\r\n",
        "        output = netD(fake).view(-1)\r\n",
        "        # Calculate G's loss based on this output\r\n",
        "        errG = criterion(output, label)\r\n",
        "        # Calculate gradients for G\r\n",
        "        errG.backward()\r\n",
        "        D_G_z2 = output.mean().item()\r\n",
        "        # Update G\r\n",
        "        optimizerG.step()\r\n",
        "\r\n",
        "        print_val = f\"[{epoch}/{epochs}][{i}/{len(train_loader)}]\\t\"\r\n",
        "        print_val += f\"Time_total : {time.time()-start}\\t\"\r\n",
        "        print_val += f\"Time_in : {time.time()-start_in}\\t\"\r\n",
        "        print_val += f\"Loss_D : {errD.item():.4f}\\t\"\r\n",
        "        print_val += f\"Loss_G : {errG.item():.4f}\\t\"\r\n",
        "        print_val += f\"D(x):: {D_x:.4f}\\t\"\r\n",
        "        print_val += f\"D(G(z)): {D_G_z1:.4f}/{D_G_z2:.4f}\"\r\n",
        "        \r\n",
        "        sys.stdout.write('\\r' + str(print_val))\r\n",
        "\r\n",
        "        # Output training stats\r\n",
        "        if i % display_step == 0 and i != 0:\r\n",
        "            print()\r\n",
        "\r\n",
        "        # Save Losses for plotting later\r\n",
        "        G_losses.append(errG.item())\r\n",
        "        D_losses.append(errD.item())\r\n",
        "\r\n",
        "        # Check how the generator is doing by saving G's output on fixed_noise\r\n",
        "        if (iters % 500 == 0) or ((epoch == epochs-1) and (i == len(train_loader)-1)):\r\n",
        "            with torch.no_grad():\r\n",
        "                fake = netG(fixed_noise).detach().cpu()\r\n",
        "            img_list.append(make_grid(fake, padding=2, normalize=True))\r\n",
        "\r\n",
        "        iters += 1\r\n",
        "    \r\n",
        "    with torch.no_grad():\r\n",
        "      fake = netG(fixed_noise).detach().cpu()\r\n",
        "    show_tensor_images(epoch , fake)\r\n",
        "    # img_list.append(make_grid(fake, padding=2, normalize=True))"
      ],
      "execution_count": null,
      "outputs": []
    },
    {
      "cell_type": "markdown",
      "metadata": {
        "id": "n665C-g5aI-D"
      },
      "source": [
        "# Model Save"
      ]
    },
    {
      "cell_type": "code",
      "metadata": {
        "id": "6ONjUgCdwjVK"
      },
      "source": [
        "from pathlib import Path\r\n",
        "PATH = '/content/drive/MyDrive/Datasets/BengaliAI_Model/V1/'\r\n",
        "Path(PATH).mkdir(parents=True, exist_ok=True)\r\n",
        "PATH += 'model_netD_0_255.pth'\r\n",
        "torch.save(netD.state_dict(), PATH)\r\n",
        "\r\n",
        "PATH = '/content/drive/MyDrive/Datasets/BengaliAI_Model/V1/'\r\n",
        "Path(PATH).mkdir(parents=True, exist_ok=True)\r\n",
        "PATH += 'model_netG_0_255.pth'\r\n",
        "torch.save(netG.state_dict(), PATH)"
      ],
      "execution_count": null,
      "outputs": []
    },
    {
      "cell_type": "markdown",
      "metadata": {
        "id": "GZYJ6BlAaNqj"
      },
      "source": [
        "# After Tranning Visualization & Test"
      ]
    },
    {
      "cell_type": "code",
      "metadata": {
        "colab": {
          "base_uri": "https://localhost:8080/",
          "height": 350
        },
        "id": "6SQcYtGrfA-7",
        "outputId": "b8faaddd-839f-45b3-d3e4-2a38f9a4452a"
      },
      "source": [
        "plt.figure(figsize=(10,5))\r\n",
        "plt.title(\"Generator and Discriminator Loss During Training\")\r\n",
        "plt.plot(G_losses,label=\"G\")\r\n",
        "plt.plot(D_losses,label=\"D\")\r\n",
        "plt.xlabel(\"iterations\")\r\n",
        "plt.ylabel(\"Loss\")\r\n",
        "plt.legend()\r\n",
        "plt.show()"
      ],
      "execution_count": null,
      "outputs": [
        {
          "output_type": "display_data",
          "data": {
            "image/png": "[encoded data removed]",
            "text/plain": [
              "<Figure size 720x360 with 1 Axes>"
            ]
          },
          "metadata": {
            "tags": [],
            "needs_background": "light"
          }
        }
      ]
    },
    {
      "cell_type": "code",
      "metadata": {
        "id": "rznJGHF8hcVh"
      },
      "source": [
        "anim_file = 'dcgan.gif'\r\n",
        "\r\n",
        "with imageio.get_writer(anim_file, mode='I') as writer:\r\n",
        "  filenames = glob.glob('image*.png')\r\n",
        "  filenames = sorted(filenames)\r\n",
        "  for filename in filenames:\r\n",
        "    image = imageio.imread(filename)\r\n",
        "    writer.append_data(image)\r\n",
        "  image = imageio.imread(filename)\r\n",
        "  writer.append_data(image)\r\n",
        "\r\n",
        "\r\n",
        "!pip install -q git+https://github.com/tensorflow/docs\r\n",
        "import tensorflow_docs.vis.embed as embed\r\n",
        "embed.embed_file(anim_file)"
      ],
      "execution_count": null,
      "outputs": []
    },
    {
      "cell_type": "code",
      "metadata": {
        "colab": {
          "base_uri": "https://localhost:8080/",
          "height": 265
        },
        "id": "mMhjVul8iPnG",
        "outputId": "1029e3c0-0ee4-4d27-b1eb-b13c11db089a"
      },
      "source": [
        "def show_new_gen_images(tensor_img, num_img=25, size=(1, 28, 28)):\r\n",
        "    tensor_img = (tensor_img + 1) / 2\r\n",
        "    unflat_img = tensor_img.detach().cpu()\r\n",
        "    img_grid = make_grid(unflat_img[:num_img], nrow=5)\r\n",
        "    plt.imshow(img_grid.permute(1, 2, 0).squeeze())\r\n",
        "    plt.show()\r\n",
        "\r\n",
        "num_image = 1\r\n",
        "noise = torch.randn(num_image, z_dim, device=device)\r\n",
        "with torch.no_grad():\r\n",
        "    fake_img = netG(noise)\r\n",
        "\r\n",
        "show_new_gen_images(fake_img)"
      ],
      "execution_count": null,
      "outputs": [
        {
          "output_type": "display_data",
          "data": {
            "image/png": "[encoded data removed]",
            "text/plain": [
              "<Figure size 432x288 with 1 Axes>"
            ]
          },
          "metadata": {
            "tags": [],
            "needs_background": "light"
          }
        }
      ]
    }
  ]
}